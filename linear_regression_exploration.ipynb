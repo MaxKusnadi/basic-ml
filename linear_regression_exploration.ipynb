{
 "cells": [
  {
   "cell_type": "markdown",
   "metadata": {
    "deletable": true,
    "editable": true
   },
   "source": [
    "# Linear Regression Exploration\n",
    "\n",
    "So recently I am into Machine Learning again to the point that I started learning (again) basic ML from Andrew Ng's [course](https://www.coursera.org/learn/machine-learning). However, I found it difficult to follow this lecture due to time constraint. Luckily, I found this [gem](http://www.holehouse.org/mlclass/01_02_Introduction_regression_analysis_and_gr.html) which summarises the course quite thoroughly. The basic concept is simple I guess (*if you follow the course dutifully*) but my interest is to see the **effect** of each parameter e.g. learning rate towards the whole process and **visualise** it! It's gonna be an enjoyable journey (I hope) so let's get our hands dirty!\n"
   ]
  },
  {
   "cell_type": "markdown",
   "metadata": {
    "deletable": true,
    "editable": true
   },
   "source": [
    "## Uploading the dataset\n",
    "\n",
    "We will use `pandas` dataframe as our data structure. The [dataset](https://github.com/MaxKusnadi/basic-ml/blob/master/data.csv) that I use is a simple x and y points (~100 pts). This of course does not realistically represent real life data but should be good enough for our demo"
   ]
  },
  {
   "cell_type": "code",
   "execution_count": 1,
   "metadata": {
    "collapsed": false,
    "deletable": true,
    "editable": true
   },
   "outputs": [
    {
     "data": {
      "text/html": [
       "<div>\n",
       "<table border=\"1\" class=\"dataframe\">\n",
       "  <thead>\n",
       "    <tr style=\"text-align: right;\">\n",
       "      <th></th>\n",
       "      <th>X</th>\n",
       "      <th>Y</th>\n",
       "    </tr>\n",
       "  </thead>\n",
       "  <tbody>\n",
       "    <tr>\n",
       "      <th>0</th>\n",
       "      <td>32.502345</td>\n",
       "      <td>31.707006</td>\n",
       "    </tr>\n",
       "    <tr>\n",
       "      <th>1</th>\n",
       "      <td>53.426804</td>\n",
       "      <td>68.777596</td>\n",
       "    </tr>\n",
       "    <tr>\n",
       "      <th>2</th>\n",
       "      <td>61.530358</td>\n",
       "      <td>62.562382</td>\n",
       "    </tr>\n",
       "    <tr>\n",
       "      <th>3</th>\n",
       "      <td>47.475640</td>\n",
       "      <td>71.546632</td>\n",
       "    </tr>\n",
       "    <tr>\n",
       "      <th>4</th>\n",
       "      <td>59.813208</td>\n",
       "      <td>87.230925</td>\n",
       "    </tr>\n",
       "  </tbody>\n",
       "</table>\n",
       "</div>"
      ],
      "text/plain": [
       "           X          Y\n",
       "0  32.502345  31.707006\n",
       "1  53.426804  68.777596\n",
       "2  61.530358  62.562382\n",
       "3  47.475640  71.546632\n",
       "4  59.813208  87.230925"
      ]
     },
     "execution_count": 1,
     "metadata": {},
     "output_type": "execute_result"
    }
   ],
   "source": [
    "import pandas as pd\n",
    "import numpy as np\n",
    "import seaborn as sns\n",
    "\n",
    "data = pd.read_csv('data.csv')\n",
    "\n",
    "data.head()"
   ]
  },
  {
   "cell_type": "markdown",
   "metadata": {},
   "source": [
    "## Visualising the data\n",
    "\n",
    "It is always good to visualise the data before doing anything"
   ]
  },
  {
   "cell_type": "code",
   "execution_count": 49,
   "metadata": {
    "collapsed": false
   },
   "outputs": [
    {
     "data": {
      "image/png": "[encoded data removed]",
      "text/plain": [
       "<matplotlib.figure.Figure at 0x999add8>"
      ]
     },
     "metadata": {},
     "output_type": "display_data"
    }
   ],
   "source": [
    "%matplotlib inline\n",
    "ax = sns.regplot(x=\"X\", y=\"Y\", data=data)"
   ]
  },
  {
   "cell_type": "markdown",
   "metadata": {
    "deletable": true,
    "editable": true
   },
   "source": [
    "## Defining Necessary Functions\n",
    "\n",
    "First, we need to define the primary function we are going to use: linear regression function which is\n",
    "```\n",
    "y = m(x) + c\n",
    "\n",
    "y = y-point\n",
    "x = x-point\n",
    "m = gradient\n",
    "c = y-intercept\n",
    "```\n",
    "Basic calculus ezpz"
   ]
  },
  {
   "cell_type": "code",
   "execution_count": 2,
   "metadata": {
    "collapsed": true,
    "deletable": true,
    "editable": true
   },
   "outputs": [],
   "source": [
    "def find_y(x, m, c):\n",
    "    return (m * x) + c"
   ]
  },
  {
   "cell_type": "markdown",
   "metadata": {
    "deletable": true,
    "editable": true
   },
   "source": [
    "Next, we need to define *cost/loss/error* function. This is the one we are trying to minimize. The intuition is that we are finding certain values of **m** and **c** so that our **cost function** is as close as possible to 0. We will use **mean square error** as our cost function\n",
    "```\n",
    "MSE = (1/n) * sum( (Y - y)^2 )\n",
    "\n",
    "MSE = Mean Square Error\n",
    "n = number of points\n",
    "Y = Y value we get from our equation\n",
    "y = the actual y value\n",
    "```"
   ]
  },
  {
   "cell_type": "code",
   "execution_count": 53,
   "metadata": {
    "collapsed": true,
    "deletable": true,
    "editable": true
   },
   "outputs": [],
   "source": [
    "def find_error(actual_y, calculated_y):\n",
    "    return actual_y - calculated_y\n",
    "\n",
    "def find_square_error(actual_y, calculated_y):\n",
    "    return (find_error(actual_y, calculated_y))**2\n",
    "\n",
    "def find_mse(points_dtf, m, c):\n",
    "    list_of_square_error = points_dtf.apply(lambda x: find_square_error( # This is to find the square error of each row\n",
    "        find_y(x[0], m, c), x[1]), axis=1) # Use axis=1 so that both columns are captured\n",
    "    sum_of_square_error = list_of_square_error.sum()\n",
    "    return sum_of_square_error / list_of_square_error.size\n",
    "    "
   ]
  },
  {
   "cell_type": "markdown",
   "metadata": {},
   "source": [
    "Let's try the default argument where m and c is 0"
   ]
  },
  {
   "cell_type": "code",
   "execution_count": 54,
   "metadata": {
    "collapsed": false
   },
   "outputs": [
    {
     "data": {
      "text/plain": [
       "5565.107834483214"
      ]
     },
     "execution_count": 54,
     "metadata": {},
     "output_type": "execute_result"
    }
   ],
   "source": [
    "find_mse(data, 0, 0)"
   ]
  },
  {
   "cell_type": "markdown",
   "metadata": {},
   "source": [
    "As we want the value of MSE to be as close to 0 as possible, clearly 5000+ isn't really a good number. We need another magic function called gradient descent to solve this\n",
    "\n",
    "## Gradient Descent\n",
    "\n",
    "The intuition of this function is to get a certain new value based on a function whose input is the current value. It seems like a mouthful explanation so let's just see the mathematical expression \n",
    "```\n",
    "new_value = old_value - ( learning_rate * function_with_old_value )\n",
    "\n",
    "new_value = updated value\n",
    "old_value = current value\n",
    "learning_rate = how fast the model learns (Gonna visualize this)\n",
    "function_with_old_value = resulting value from a function whose input is the current value\n",
    "```\n",
    "\n",
    "This includes partial derivatives too. Read up more on this if you have any questions. Again, the focus here is to visualise the effect if various hyperparameter and not basic ML knowledge"
   ]
  },
  {
   "cell_type": "code",
   "execution_count": 55,
   "metadata": {
    "collapsed": false
   },
   "outputs": [],
   "source": [
    "def find_partial_derivative_m(points_dtf, m, c):\n",
    "    list_of_derivatives = points_dtf.apply(lambda x: x[0] * find_error(x[1], find_y(x[0], m, c)), axis=1)\n",
    "    return (-1 * list_of_derivatives.sum()) / (2*list_of_derivatives.size)\n",
    "\n",
    "def find_partial_derivative_c(points_dtf, m, c):\n",
    "    list_of_derivatives = points_dtf.apply(lambda x: find_error(x[1], find_y(x[0], m, c)) , axis=1)\n",
    "    return (-1 * list_of_derivatives.sum()) / (2*list_of_derivatives.size)\n",
    "    \n",
    "def find_new_c(c, partial_c, learning_rate):\n",
    "    return c - (learning_rate * partial_c)\n",
    "\n",
    "def find_new_m(m, partial_m, learning_rate):\n",
    "    return m - (learning_rate * partial_m)\n",
    "\n",
    "def find_gradient(points_dtf, m, c, learning_rate):\n",
    "    partial_m = find_partial_derivative_m(points_dtf, m, c)\n",
    "    partial_c = find_partial_derivative_c(points_dtf, m, c)\n",
    "    \n",
    "    c = find_new_c(c, partial_c, learning_rate)\n",
    "    m = find_new_m(m, partial_m, learning_rate)\n",
    "    \n",
    "    return (m, c)"
   ]
  },
  {
   "cell_type": "markdown",
   "metadata": {},
   "source": [
    "Now we define the main function to run gradient descent"
   ]
  },
  {
   "cell_type": "code",
   "execution_count": 56,
   "metadata": {
    "collapsed": true
   },
   "outputs": [],
   "source": [
    "def gradient_descent(points_dtf, initial_m, initial_c, learning_rate, iteration):\n",
    "    c = initial_c\n",
    "    m = initial_m\n",
    "    for x in range(0, iteration):\n",
    "        m, c = find_gradient(points_dtf, m, c, learning_rate)\n",
    "    return m, c"
   ]
  },
  {
   "cell_type": "markdown",
   "metadata": {},
   "source": [
    "Let's see the new **m** and **c** as well as the updated **MSE**"
   ]
  },
  {
   "cell_type": "code",
   "execution_count": 61,
   "metadata": {
    "collapsed": false
   },
   "outputs": [],
   "source": [
    "m, c =gradient_descent(data, 0, 0, 0.001, 1000)"
   ]
  },
  {
   "cell_type": "code",
   "execution_count": 62,
   "metadata": {
    "collapsed": false
   },
   "outputs": [
    {
     "data": {
      "text/plain": [
       "112.56202948374712"
      ]
     },
     "execution_count": 62,
     "metadata": {},
     "output_type": "execute_result"
    }
   ],
   "source": [
    "# New MSE\n",
    "find_mse(data, m, c)"
   ]
  },
  {
   "cell_type": "code",
   "execution_count": 63,
   "metadata": {
    "collapsed": false
   },
   "outputs": [
    {
     "name": "stdout",
     "output_type": "stream",
     "text": [
      "1.47599558405 0.177897509182\n"
     ]
    }
   ],
   "source": [
    "print(m, c)"
   ]
  },
  {
   "cell_type": "code",
   "execution_count": null,
   "metadata": {
    "collapsed": true
   },
   "outputs": [],
   "source": []
  }
 ],
 "metadata": {
  "kernelspec": {
   "display_name": "Python 3",
   "language": "python",
   "name": "python3"
  },
  "language_info": {
   "codemirror_mode": {
    "name": "ipython",
    "version": 3
   },
   "file_extension": ".py",
   "mimetype": "text/x-python",
   "name": "python",
   "nbconvert_exporter": "python",
   "pygments_lexer": "ipython3",
   "version": "3.6.0"
  }
 },
 "nbformat": 4,
 "nbformat_minor": 2
}
